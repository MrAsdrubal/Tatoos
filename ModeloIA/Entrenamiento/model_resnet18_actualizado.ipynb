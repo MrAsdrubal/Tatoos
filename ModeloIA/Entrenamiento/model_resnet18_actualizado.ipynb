{
 "cells": [
  {
   "cell_type": "code",
   "metadata": {
    "ExecuteTime": {
     "end_time": "2024-12-15T22:35:01.013394Z",
     "start_time": "2024-12-15T22:34:57.201110Z"
    }
   },
   "source": [
    "import torch\n",
    "import torch.nn as nn\n",
    "import torch.optim as optim\n",
    "from torchvision import datasets, models, transforms\n",
    "from torch.utils.data import DataLoader\n",
    "from sklearn.metrics import classification_report, confusion_matrix\n",
    "import matplotlib.pyplot as plt\n",
    "import seaborn as sns\n",
    "import numpy as np\n",
    "from tqdm import tqdm\n",
    "from tensorflow.keras.models import load_model\n",
    "from PIL import Image "
   ],
   "outputs": [
    {
     "name": "stderr",
     "output_type": "stream",
     "text": [
      "C:\\Users\\NW\\AppData\\Local\\Programs\\Python\\Python310\\lib\\site-packages\\torch\\_subclasses\\functional_tensor.py:295: UserWarning: Failed to initialize NumPy: No module named 'numpy' (Triggered internally at C:\\actions-runner\\_work\\pytorch\\pytorch\\builder\\windows\\pytorch\\torch\\csrc\\utils\\tensor_numpy.cpp:84.)\n",
      "  cpu = _conversion_method_template(device=torch.device(\"cpu\"))\n"
     ]
    },
    {
     "ename": "ModuleNotFoundError",
     "evalue": "No module named 'torchvision'",
     "output_type": "error",
     "traceback": [
      "\u001B[1;31m---------------------------------------------------------------------------\u001B[0m",
      "\u001B[1;31mModuleNotFoundError\u001B[0m                       Traceback (most recent call last)",
      "Cell \u001B[1;32mIn[1], line 4\u001B[0m\n\u001B[0;32m      2\u001B[0m \u001B[38;5;28;01mimport\u001B[39;00m \u001B[38;5;21;01mtorch\u001B[39;00m\u001B[38;5;21;01m.\u001B[39;00m\u001B[38;5;21;01mnn\u001B[39;00m \u001B[38;5;28;01mas\u001B[39;00m \u001B[38;5;21;01mnn\u001B[39;00m\n\u001B[0;32m      3\u001B[0m \u001B[38;5;28;01mimport\u001B[39;00m \u001B[38;5;21;01mtorch\u001B[39;00m\u001B[38;5;21;01m.\u001B[39;00m\u001B[38;5;21;01moptim\u001B[39;00m \u001B[38;5;28;01mas\u001B[39;00m \u001B[38;5;21;01moptim\u001B[39;00m\n\u001B[1;32m----> 4\u001B[0m \u001B[38;5;28;01mfrom\u001B[39;00m \u001B[38;5;21;01mtorchvision\u001B[39;00m \u001B[38;5;28;01mimport\u001B[39;00m datasets, models, transforms\n\u001B[0;32m      5\u001B[0m \u001B[38;5;28;01mfrom\u001B[39;00m \u001B[38;5;21;01mtorch\u001B[39;00m\u001B[38;5;21;01m.\u001B[39;00m\u001B[38;5;21;01mutils\u001B[39;00m\u001B[38;5;21;01m.\u001B[39;00m\u001B[38;5;21;01mdata\u001B[39;00m \u001B[38;5;28;01mimport\u001B[39;00m DataLoader\n\u001B[0;32m      6\u001B[0m \u001B[38;5;28;01mfrom\u001B[39;00m \u001B[38;5;21;01msklearn\u001B[39;00m\u001B[38;5;21;01m.\u001B[39;00m\u001B[38;5;21;01mmetrics\u001B[39;00m \u001B[38;5;28;01mimport\u001B[39;00m classification_report, confusion_matrix\n",
      "\u001B[1;31mModuleNotFoundError\u001B[0m: No module named 'torchvision'"
     ]
    }
   ],
   "execution_count": 1
  },
  {
   "cell_type": "code",
   "execution_count": 2,
   "metadata": {},
   "outputs": [],
   "source": [
    "# Configuración básica\n",
    "train_dir = 'C:/EPN/2024-B/IA/Proyecto/Datos/procesados2/train_balanced'\n",
    "val_dir = 'C:/EPN/2024-B/IA/Proyecto/Datos/procesados2/val_balanced'\n",
    "batch_size = 32\n",
    "num_classes = 3  # Tonalidad blanca, tonalidad media, tonalidad oscura\n",
    "learning_rate = 0.001\n",
    "num_epochs = 5\n",
    "device = torch.device(\"cuda\" if torch.cuda.is_available() else \"cpu\")"
   ]
  },
  {
   "cell_type": "code",
   "execution_count": 3,
   "metadata": {},
   "outputs": [],
   "source": [
    "# Transformaciones para preprocesar las imágenes\n",
    "data_transforms = {\n",
    "    'train': transforms.Compose([\n",
    "        # Redimensiona las imágenes a 224x224 píxeles\n",
    "        transforms.Resize((224, 224)),\n",
    "        transforms.RandomHorizontalFlip(),\n",
    "        # Transforma las imágenes a tensores de PyTorch\n",
    "        transforms.ToTensor(),\n",
    "        # Normalización de las imágenes con la media y desviación estándar de ImageNet.\n",
    "        transforms.Normalize([0.485, 0.456, 0.406], [0.229, 0.224, 0.225])\n",
    "    ]),\n",
    "    'val': transforms.Compose([\n",
    "        transforms.Resize((224, 224)),\n",
    "        transforms.ToTensor(),\n",
    "        transforms.Normalize([0.485, 0.456, 0.406], [0.229, 0.224, 0.225])\n",
    "    ]),\n",
    "}"
   ]
  },
  {
   "cell_type": "code",
   "execution_count": 4,
   "metadata": {},
   "outputs": [],
   "source": [
    "# Cargar los datos\n",
    "train_dataset = datasets.ImageFolder(train_dir, transform=data_transforms['train'])\n",
    "val_dataset = datasets.ImageFolder(val_dir, transform=data_transforms['val'])\n",
    "\n",
    "train_loader = DataLoader(train_dataset, batch_size=batch_size, shuffle=True)\n",
    "val_loader = DataLoader(val_dataset, batch_size=batch_size, shuffle=False)"
   ]
  },
  {
   "cell_type": "code",
   "execution_count": 6,
   "metadata": {},
   "outputs": [
    {
     "data": {
      "text/plain": [
       "2547"
      ]
     },
     "execution_count": 6,
     "metadata": {},
     "output_type": "execute_result"
    }
   ],
   "source": [
    "len(train_dataset)\n",
    "len(val_dataset)"
   ]
  },
  {
   "cell_type": "code",
   "execution_count": null,
   "metadata": {},
   "outputs": [
    {
     "name": "stderr",
     "output_type": "stream",
     "text": [
      "c:\\Users\\qkevi\\AppData\\Local\\Programs\\Python\\Python310\\lib\\site-packages\\torchvision\\models\\_utils.py:208: UserWarning: The parameter 'pretrained' is deprecated since 0.13 and may be removed in the future, please use 'weights' instead.\n",
      "  warnings.warn(\n",
      "c:\\Users\\qkevi\\AppData\\Local\\Programs\\Python\\Python310\\lib\\site-packages\\torchvision\\models\\_utils.py:223: UserWarning: Arguments other than a weight enum or `None` for 'weights' are deprecated since 0.13 and may be removed in the future. The current behavior is equivalent to passing `weights=ResNet18_Weights.IMAGENET1K_V1`. You can also use `weights=ResNet18_Weights.DEFAULT` to get the most up-to-date weights.\n",
      "  warnings.warn(msg)\n"
     ]
    }
   ],
   "source": [
    "# Modelo preentrenado\n",
    "model = models.resnet18(pretrained=True)\n",
    "model.fc = nn.Linear(model.fc.in_features, num_classes)  # Reemplazar la capa final para 3 clases\n",
    "model = model.to(device)"
   ]
  },
  {
   "cell_type": "code",
   "execution_count": null,
   "metadata": {},
   "outputs": [
    {
     "ename": "NameError",
     "evalue": "name 'model' is not defined",
     "output_type": "error",
     "traceback": [
      "\u001B[1;31m---------------------------------------------------------------------------\u001B[0m",
      "\u001B[1;31mNameError\u001B[0m                                 Traceback (most recent call last)",
      "Cell \u001B[1;32mIn[5], line 3\u001B[0m\n\u001B[0;32m      1\u001B[0m \u001B[38;5;66;03m# Función de pérdida y optimizador\u001B[39;00m\n\u001B[0;32m      2\u001B[0m criterion \u001B[38;5;241m=\u001B[39m nn\u001B[38;5;241m.\u001B[39mCrossEntropyLoss()\n\u001B[1;32m----> 3\u001B[0m optimizer \u001B[38;5;241m=\u001B[39m optim\u001B[38;5;241m.\u001B[39mAdam(\u001B[43mmodel\u001B[49m\u001B[38;5;241m.\u001B[39mparameters(), lr\u001B[38;5;241m=\u001B[39mlearning_rate)\n",
      "\u001B[1;31mNameError\u001B[0m: name 'model' is not defined"
     ]
    }
   ],
   "source": [
    "# Función de pérdida y optimizador\n",
    "criterion = nn.CrossEntropyLoss()\n",
    "optimizer = optim.Adam(model.parameters(), lr = learning_rate)"
   ]
  },
  {
   "cell_type": "code",
   "execution_count": null,
   "metadata": {},
   "outputs": [],
   "source": [
    "def train_model(model, train_loader, val_loader, criterion, optimizer, num_epochs):\n",
    "    train_loss_history = []\n",
    "    val_loss_history = []\n",
    "    train_acc_history = []\n",
    "    val_acc_history = []\n",
    "  \n",
    "\n",
    "    for epoch in range(num_epochs):\n",
    "        all_labels = []\n",
    "        all_preds = []\n",
    "        # Entrenamiento\n",
    "        model.train()\n",
    "        running_loss = 0.0\n",
    "        running_corrects = 0\n",
    "        processed_images = 0\n",
    "\n",
    "        # Barra de progreso para entrenamiento\n",
    "        progress_bar = tqdm(train_loader, desc=f'Epoch {epoch+1}/{num_epochs}', leave=False)\n",
    "\n",
    "        for inputs, labels in progress_bar:\n",
    "            inputs, labels = inputs.to(device), labels.to(device)\n",
    "\n",
    "            optimizer.zero_grad()\n",
    "            outputs = model(inputs)\n",
    "            loss = criterion(outputs, labels)\n",
    "            loss.backward()\n",
    "            optimizer.step()\n",
    "\n",
    "            _, preds = torch.max(outputs, 1)\n",
    "            running_loss += loss.item() * inputs.size(0)\n",
    "            running_corrects += torch.sum(preds == labels.data)\n",
    "            processed_images += inputs.size(0)\n",
    "\n",
    "            # Actualizar la barra de progreso con la pérdida promedio\n",
    "            progress_bar.set_postfix({'loss': running_loss / processed_images})\n",
    "\n",
    "        epoch_loss = running_loss / len(train_loader.dataset)\n",
    "        epoch_acc = running_corrects.double() / len(train_loader.dataset)\n",
    "        train_loss_history.append(epoch_loss)\n",
    "        train_acc_history.append(epoch_acc.item())\n",
    "\n",
    "        # Validación al final de cada época\n",
    "        model.eval()\n",
    "        val_loss = 0.0\n",
    "        val_corrects = 0.0\n",
    "\n",
    "        with torch.no_grad():\n",
    "            for inputs, labels in val_loader:\n",
    "                inputs, labels = inputs.to(device), labels.to(device)\n",
    "\n",
    "                outputs = model(inputs)\n",
    "                loss = criterion(outputs, labels)\n",
    "\n",
    "                _, preds = torch.max(outputs, 1)\n",
    "                val_loss += loss.item() * inputs.size(0)\n",
    "                val_corrects += torch.sum(preds == labels.data)\n",
    "\n",
    "                all_labels.extend(labels.cpu().numpy())\n",
    "                all_preds.extend(preds.cpu().numpy())\n",
    "\n",
    "        val_loss /= len(val_loader.dataset)\n",
    "        val_acc = val_corrects.double() / len(val_loader.dataset)\n",
    "        val_loss_history.append(val_loss)\n",
    "        val_acc_history.append(val_acc.item())\n",
    "\n",
    "        # Imprimir métricas al final de la época\n",
    "        print(f\"Epoch {epoch+1}/{num_epochs} -> Train Loss: {epoch_loss:.4f}, Train Acc: {epoch_acc:.4f}, \"\n",
    "              f\"Val Loss: {val_loss:.4f}, Val Acc: {val_acc:.4f}\")\n",
    "\n",
    "    # Devolver historial y métricas finales\n",
    "    return model, train_loss_history, train_acc_history, val_loss_history, val_acc_history, all_labels, all_preds"
   ]
  },
  {
   "cell_type": "code",
   "execution_count": 8,
   "metadata": {},
   "outputs": [
    {
     "name": "stderr",
     "output_type": "stream",
     "text": [
      "                                                                         \r"
     ]
    },
    {
     "name": "stdout",
     "output_type": "stream",
     "text": [
      "Epoch 1/10 -> Train Loss: 0.1951, Train Acc: 0.9315, Val Loss: 0.0882, Val Acc: 0.9678\n"
     ]
    },
    {
     "name": "stderr",
     "output_type": "stream",
     "text": [
      "                                                                         \r"
     ]
    },
    {
     "name": "stdout",
     "output_type": "stream",
     "text": [
      "Epoch 2/10 -> Train Loss: 0.1306, Train Acc: 0.9533, Val Loss: 0.1025, Val Acc: 0.9658\n"
     ]
    },
    {
     "name": "stderr",
     "output_type": "stream",
     "text": [
      "                                                                         \r"
     ]
    },
    {
     "name": "stdout",
     "output_type": "stream",
     "text": [
      "Epoch 3/10 -> Train Loss: 0.1435, Train Acc: 0.9495, Val Loss: 0.0845, Val Acc: 0.9682\n"
     ]
    },
    {
     "name": "stderr",
     "output_type": "stream",
     "text": [
      "                                                                         \r"
     ]
    },
    {
     "name": "stdout",
     "output_type": "stream",
     "text": [
      "Epoch 4/10 -> Train Loss: 0.1129, Train Acc: 0.9583, Val Loss: 0.0903, Val Acc: 0.9698\n"
     ]
    },
    {
     "name": "stderr",
     "output_type": "stream",
     "text": [
      "                                                                         \r"
     ]
    },
    {
     "name": "stdout",
     "output_type": "stream",
     "text": [
      "Epoch 5/10 -> Train Loss: 0.1055, Train Acc: 0.9605, Val Loss: 0.0755, Val Acc: 0.9761\n"
     ]
    },
    {
     "name": "stderr",
     "output_type": "stream",
     "text": [
      "                                                                          \r"
     ]
    },
    {
     "name": "stdout",
     "output_type": "stream",
     "text": [
      "Epoch 6/10 -> Train Loss: 0.1089, Train Acc: 0.9594, Val Loss: 0.0735, Val Acc: 0.9749\n"
     ]
    },
    {
     "name": "stderr",
     "output_type": "stream",
     "text": [
      "                                                                         \r"
     ]
    },
    {
     "name": "stdout",
     "output_type": "stream",
     "text": [
      "Epoch 7/10 -> Train Loss: 0.1095, Train Acc: 0.9588, Val Loss: 0.0794, Val Acc: 0.9702\n"
     ]
    },
    {
     "name": "stderr",
     "output_type": "stream",
     "text": [
      "                                                                          \r"
     ]
    },
    {
     "name": "stdout",
     "output_type": "stream",
     "text": [
      "Epoch 8/10 -> Train Loss: 0.1014, Train Acc: 0.9615, Val Loss: 0.0849, Val Acc: 0.9698\n"
     ]
    },
    {
     "name": "stderr",
     "output_type": "stream",
     "text": [
      "                                                                          \r"
     ]
    },
    {
     "name": "stdout",
     "output_type": "stream",
     "text": [
      "Epoch 9/10 -> Train Loss: 0.0974, Train Acc: 0.9628, Val Loss: 0.1174, Val Acc: 0.9564\n"
     ]
    },
    {
     "name": "stderr",
     "output_type": "stream",
     "text": [
      "                                                                           \r"
     ]
    },
    {
     "name": "stdout",
     "output_type": "stream",
     "text": [
      "Epoch 10/10 -> Train Loss: 0.0918, Train Acc: 0.9634, Val Loss: 0.0811, Val Acc: 0.9682\n"
     ]
    }
   ],
   "source": [
    "# Entrenar el modelo\n",
    "trained_model, train_loss_history, train_acc_history, val_loss_history, val_acc_history, all_labels, all_preds = train_model(\n",
    "    model, train_loader, val_loader, criterion, optimizer, num_epochs\n",
    ")\n"
   ]
  },
  {
   "cell_type": "code",
   "execution_count": 9,
   "metadata": {},
   "outputs": [
    {
     "name": "stdout",
     "output_type": "stream",
     "text": [
      "Training Complete\n",
      "Final Train Loss: 0.0918 Acc: 0.9634\n",
      "Final Val Loss: 0.0811 Acc: 0.9682\n"
     ]
    }
   ],
   "source": [
    "# Presentar métricas finales\n",
    "print(\"Training Complete\")\n",
    "print(f'Final Train Loss: {train_loss_history[-1]:.4f} Acc: {train_acc_history[-1]:.4f}')\n",
    "print(f'Final Val Loss: {val_loss_history[-1]:.4f} Acc: {val_acc_history[-1]:.4f}')"
   ]
  },
  {
   "cell_type": "code",
   "execution_count": 10,
   "metadata": {},
   "outputs": [
    {
     "data": {
      "text/plain": [
       "<matplotlib.legend.Legend at 0x2731d04d5d0>"
      ]
     },
     "execution_count": 10,
     "metadata": {},
     "output_type": "execute_result"
    },
    {
     "data": {
      "image/png": "[encoded data removed]",
      "text/plain": [
       "<Figure size 640x480 with 1 Axes>"
      ]
     },
     "metadata": {},
     "output_type": "display_data"
    }
   ],
   "source": [
    "# Subgráfico para la pérdida\n",
    "plt.subplot(1, 2, 1)\n",
    "plt.plot(train_loss_history, label='Train Loss', marker='o')\n",
    "plt.plot(val_loss_history, label='Val Loss', marker='o')\n",
    "plt.xlabel('Epochs')\n",
    "plt.ylabel('Loss')\n",
    "plt.title('Loss History')\n",
    "plt.legend()\n"
   ]
  },
  {
   "cell_type": "code",
   "execution_count": 11,
   "metadata": {},
   "outputs": [
    {
     "data": {
      "image/png": "[encoded data removed]",
      "text/plain": [
       "<Figure size 640x480 with 1 Axes>"
      ]
     },
     "metadata": {},
     "output_type": "display_data"
    }
   ],
   "source": [
    "# Subgráfico para la precisión\n",
    "plt.subplot(1, 2, 2)\n",
    "plt.plot(train_acc_history, label='Train Accuracy', marker='o')\n",
    "plt.plot(val_acc_history, label='Val Accuracy', marker='o')\n",
    "plt.xlabel('Epochs')\n",
    "plt.ylabel('Accuracy')\n",
    "plt.title('Accuracy History')\n",
    "plt.legend()\n",
    "\n",
    "plt.tight_layout()\n",
    "plt.show()"
   ]
  },
  {
   "cell_type": "code",
   "execution_count": 12,
   "metadata": {},
   "outputs": [
    {
     "name": "stdout",
     "output_type": "stream",
     "text": [
      "Classification Report:\n",
      "              precision    recall  f1-score   support\n",
      "\n",
      "      I & II       0.97      0.94      0.96      8470\n",
      "    III & IV       0.94      0.97      0.96      8500\n",
      "      V & VI       1.00      0.99      0.99      8500\n",
      "\n",
      "    accuracy                           0.97     25470\n",
      "   macro avg       0.97      0.97      0.97     25470\n",
      "weighted avg       0.97      0.97      0.97     25470\n",
      "\n"
     ]
    }
   ],
   "source": [
    "# Reporte de clasificación\n",
    "print(\"Classification Report:\")\n",
    "print(classification_report(all_labels, all_preds, target_names=train_dataset.classes))"
   ]
  },
  {
   "cell_type": "code",
   "execution_count": 33,
   "metadata": {},
   "outputs": [
    {
     "data": {
      "image/png": "[encoded data removed]",
      "text/plain": [
       "<Figure size 800x600 with 2 Axes>"
      ]
     },
     "metadata": {},
     "output_type": "display_data"
    }
   ],
   "source": [
    "# Matriz de confusión\n",
    "# Número total de imágenes en el conjunto de validación\n",
    "num_val_images = len(val_loader.dataset)\n",
    "\n",
    "# Extraer los últimos datos correspondientes a la última validación\n",
    "last_labels = all_labels[-num_val_images:]\n",
    "last_preds = all_preds[-num_val_images:]\n",
    "\n",
    "cm = confusion_matrix(last_labels, last_preds)\n",
    "plt.figure(figsize=(8, 6))\n",
    "sns.heatmap(cm, annot=True, fmt='d', cmap='Blues', xticklabels=train_dataset.classes, yticklabels=train_dataset.classes)\n",
    "plt.xlabel('Predicted')\n",
    "plt.ylabel('True')\n",
    "plt.title('Confusion Matrix')\n",
    "plt.show()"
   ]
  },
  {
   "cell_type": "markdown",
   "metadata": {},
   "source": [
    "### Guardar el modelo "
   ]
  },
  {
   "cell_type": "code",
   "execution_count": 17,
   "metadata": {},
   "outputs": [
    {
     "name": "stdout",
     "output_type": "stream",
     "text": [
      "Modelo completo guardado correctamente.\n"
     ]
    }
   ],
   "source": [
    "# Guardar el modelo completo (arquitectura + pesos)\n",
    "torch.save(model, 'C:/EPN/2024-B/IA/Proyecto/Modelos/model_resnet18.pth')\n",
    "print(\"Modelo completo guardado correctamente.\")"
   ]
  },
  {
   "cell_type": "code",
   "execution_count": 4,
   "metadata": {},
   "outputs": [],
   "source": [
    "def predecir_imagen(modelo, ruta_imagen, clases):\n",
    "    \"\"\"\n",
    "    Realiza una predicción sobre una imagen dada utilizando un modelo entrenado.\n",
    "    \n",
    "    Args:\n",
    "        modelo: El modelo de PyTorch cargado y listo para evaluar.\n",
    "        ruta_imagen: La ruta a la imagen que se desea predecir.\n",
    "        clases: Lista o diccionario que asocia índices con nombres de clases.\n",
    "    \n",
    "    Returns:\n",
    "        str: La clase predicha para la imagen.\n",
    "    \"\"\"\n",
    "    # 1. Definir las transformaciones necesarias\n",
    "    transformaciones = transforms.Compose([\n",
    "        transforms.Resize((224, 224)),            # Redimensionar la imagen a 224x224\n",
    "        transforms.ToTensor(),                    # Convertir la imagen a un tensor\n",
    "        transforms.Normalize(mean=[0.485, 0.456, 0.406],  # Normalización según ImageNet\n",
    "                             std=[0.229, 0.224, 0.225])\n",
    "    ])\n",
    "    \n",
    "    # 2. Cargar y preprocesar la imagen\n",
    "    try:\n",
    "        imagen = Image.open(ruta_imagen).convert('RGB')  # Asegurar que es RGB\n",
    "    except Exception as e:\n",
    "        raise ValueError(f\"Error al abrir la imagen: {e}\")\n",
    "    \n",
    "    imagen_tensor = transformaciones(imagen).unsqueeze(0)  # Agregar dimensión de batch\n",
    "    \n",
    "    # 3. Evaluar el modelo\n",
    "    modelo.eval()  # Asegurarse de que el modelo esté en modo evaluación\n",
    "    with torch.no_grad():  # No se necesita calcular gradientes\n",
    "        salida = modelo(imagen_tensor)  # Pasar la imagen procesada al modelo\n",
    "        _, indice_predicho = torch.max(salida, 1)  # Obtener índice de la clase predicha\n",
    "    \n",
    "    # 4. Devolver la clase predicha\n",
    "    return clases[indice_predicho.item()]"
   ]
  },
  {
   "cell_type": "code",
   "execution_count": 3,
   "metadata": {},
   "outputs": [
    {
     "name": "stdout",
     "output_type": "stream",
     "text": [
      "Modelo completo cargado correctamente.\n"
     ]
    },
    {
     "name": "stderr",
     "output_type": "stream",
     "text": [
      "C:\\Users\\qkevi\\AppData\\Local\\Temp\\ipykernel_20500\\1515668139.py:1: FutureWarning: You are using `torch.load` with `weights_only=False` (the current default value), which uses the default pickle module implicitly. It is possible to construct malicious pickle data which will execute arbitrary code during unpickling (See https://github.com/pytorch/pytorch/blob/main/SECURITY.md#untrusted-models for more details). In a future release, the default value for `weights_only` will be flipped to `True`. This limits the functions that could be executed during unpickling. Arbitrary objects will no longer be allowed to be loaded via this mode unless they are explicitly allowlisted by the user via `torch.serialization.add_safe_globals`. We recommend you start setting `weights_only=True` for any use case where you don't have full control of the loaded file. Please open an issue on GitHub for any issues related to this experimental feature.\n",
      "  modelo_cargado = torch.load('C:/EPN/2024-B/IA/Proyecto/Modelos/model_resnet18.pth')\n"
     ]
    }
   ],
   "source": [
    "modelo_cargado = torch.load('C:/EPN/2024-B/IA/Proyecto/Modelos/model_resnet18.pth')\n",
    "# Cambiar a modo evaluación si deseas usarlo para predicciones\n",
    "print(\"Modelo completo cargado correctamente.\")"
   ]
  },
  {
   "cell_type": "code",
   "execution_count": 5,
   "metadata": {},
   "outputs": [],
   "source": [
    "clases = {0: 'Tonalidad-blanca', 1: 'Tonalidad-media', 2: 'Tonalidad-oscura'}"
   ]
  },
  {
   "cell_type": "code",
   "execution_count": 22,
   "metadata": {},
   "outputs": [
    {
     "name": "stdout",
     "output_type": "stream",
     "text": [
      "La clase predicha es: Tonalidad-media\n"
     ]
    }
   ],
   "source": [
    "ruta_imagen = 'C:/EPN/2024-B/IA/Proyecto/Prediccion/piel10.png'\n",
    "prediccion = predecir_imagen(modelo_cargado, ruta_imagen, clases)\n",
    "print(f\"La clase predicha es: {prediccion}\")"
   ]
  },
  {
   "cell_type": "markdown",
   "metadata": {},
   "source": [
    "### Continuación de entrenamiento del modelo"
   ]
  },
  {
   "cell_type": "code",
   "execution_count": 19,
   "metadata": {},
   "outputs": [
    {
     "name": "stderr",
     "output_type": "stream",
     "text": [
      "C:\\Users\\qkevi\\AppData\\Local\\Temp\\ipykernel_3452\\1046259157.py:1: FutureWarning: You are using `torch.load` with `weights_only=False` (the current default value), which uses the default pickle module implicitly. It is possible to construct malicious pickle data which will execute arbitrary code during unpickling (See https://github.com/pytorch/pytorch/blob/main/SECURITY.md#untrusted-models for more details). In a future release, the default value for `weights_only` will be flipped to `True`. This limits the functions that could be executed during unpickling. Arbitrary objects will no longer be allowed to be loaded via this mode unless they are explicitly allowlisted by the user via `torch.serialization.add_safe_globals`. We recommend you start setting `weights_only=True` for any use case where you don't have full control of the loaded file. Please open an issue on GitHub for any issues related to this experimental feature.\n",
      "  modelo_cargado = torch.load('C:/EPN/2024-B/IA/Proyecto/Modelos/model_resnet18.pth')\n"
     ]
    }
   ],
   "source": [
    "modelo_cargado = torch.load('C:/EPN/2024-B/IA/Proyecto/Modelos/model_resnet18.pth')"
   ]
  },
  {
   "cell_type": "code",
   "execution_count": 18,
   "metadata": {},
   "outputs": [],
   "source": [
    "\n",
    "def train_model_completly(model, train_loader, val_loader, criterion, optimizer, num_epochs):\n",
    "    train_loss_history = []\n",
    "    val_loss_history = []\n",
    "    train_acc_history = []\n",
    "    val_acc_history = []\n",
    "    \n",
    "    # Almacenar etiquetas y predicciones para classification reports\n",
    "    all_train_labels_epoch = []  # Etiquetas reales del train por época\n",
    "    all_train_preds_epoch = []  # Predicciones del train por época\n",
    "    all_val_labels_epoch = []   # Etiquetas reales del val por época\n",
    "    all_val_preds_epoch = []    # Predicciones del val por época\n",
    "\n",
    "    for epoch in range(num_epochs):\n",
    "        # Variables para acumular métricas del conjunto de entrenamiento\n",
    "        all_train_labels = []\n",
    "        all_train_preds = []\n",
    "\n",
    "        # Entrenamiento\n",
    "        model.train()\n",
    "        running_loss = 0.0\n",
    "        running_corrects = 0\n",
    "        processed_images = 0\n",
    "\n",
    "        # Barra de progreso para entrenamiento\n",
    "        progress_bar = tqdm(train_loader, desc=f'Epoch {epoch+1}/{num_epochs}', leave=False)\n",
    "\n",
    "        for inputs, labels in progress_bar:\n",
    "            inputs, labels = inputs.to(device), labels.to(device)\n",
    "\n",
    "            optimizer.zero_grad()\n",
    "            outputs = model(inputs)\n",
    "            loss = criterion(outputs, labels)\n",
    "            loss.backward()\n",
    "            optimizer.step()\n",
    "\n",
    "            _, preds = torch.max(outputs, 1)\n",
    "            running_loss += loss.item() * inputs.size(0)\n",
    "            running_corrects += torch.sum(preds == labels.data)\n",
    "            processed_images += inputs.size(0)\n",
    "\n",
    "            # Acumular etiquetas reales y predicciones del entrenamiento\n",
    "            all_train_labels.extend(labels.cpu().numpy())\n",
    "            all_train_preds.extend(preds.cpu().numpy())\n",
    "\n",
    "            # Actualizar la barra de progreso con la pérdida promedio\n",
    "            progress_bar.set_postfix({'loss': running_loss / processed_images})\n",
    "\n",
    "        # Calcular métricas del entrenamiento\n",
    "        epoch_loss = running_loss / len(train_loader.dataset)\n",
    "        epoch_acc = running_corrects.double() / len(train_loader.dataset)\n",
    "        train_loss_history.append(epoch_loss)\n",
    "        train_acc_history.append(epoch_acc.item())\n",
    "        all_train_labels_epoch.append(all_train_labels)\n",
    "        all_train_preds_epoch.append(all_train_preds)\n",
    "\n",
    "        # Validación al final de cada época\n",
    "        model.eval()\n",
    "        val_loss = 0.0\n",
    "        val_corrects = 0.0\n",
    "\n",
    "        all_val_labels = []\n",
    "        all_val_preds = []\n",
    "\n",
    "        with torch.no_grad():\n",
    "            for inputs, labels in val_loader:\n",
    "                inputs, labels = inputs.to(device), labels.to(device)\n",
    "\n",
    "                outputs = model(inputs)\n",
    "                loss = criterion(outputs, labels)\n",
    "\n",
    "                _, preds = torch.max(outputs, 1)\n",
    "                val_loss += loss.item() * inputs.size(0)\n",
    "                val_corrects += torch.sum(preds == labels.data)\n",
    "\n",
    "                # Acumular etiquetas reales y predicciones del conjunto de validación\n",
    "                all_val_labels.extend(labels.cpu().numpy())\n",
    "                all_val_preds.extend(preds.cpu().numpy())\n",
    "\n",
    "        # Calcular métricas de validación\n",
    "        val_loss /= len(val_loader.dataset)\n",
    "        val_acc = val_corrects.double() / len(val_loader.dataset)\n",
    "        val_loss_history.append(val_loss)\n",
    "        val_acc_history.append(val_acc.item())\n",
    "        all_val_labels_epoch.append(all_val_labels)\n",
    "        all_val_preds_epoch.append(all_val_preds)\n",
    "\n",
    "        # Imprimir métricas al final de la época\n",
    "        print(f\"Epoch {epoch+1}/{num_epochs} -> Train Loss: {epoch_loss:.4f}, Train Acc: {epoch_acc:.4f}, \"\n",
    "              f\"Val Loss: {val_loss:.4f}, Val Acc: {val_acc:.4f}\")\n",
    "\n",
    "    # Devolver todas las métricas y datos para los classification reports\n",
    "    return (model, train_loss_history, train_acc_history, val_loss_history, val_acc_history, \n",
    "            all_train_labels_epoch, all_train_preds_epoch, all_val_labels_epoch, all_val_preds_epoch)\n"
   ]
  },
  {
   "cell_type": "code",
   "execution_count": 24,
   "metadata": {},
   "outputs": [
    {
     "name": "stderr",
     "output_type": "stream",
     "text": [
      "                                                                        \r"
     ]
    },
    {
     "name": "stdout",
     "output_type": "stream",
     "text": [
      "Epoch 1/5 -> Train Loss: 0.1089, Train Acc: 0.9551, Val Loss: 0.0944, Val Acc: 0.9611\n"
     ]
    },
    {
     "name": "stderr",
     "output_type": "stream",
     "text": [
      "                                                                        \r"
     ]
    },
    {
     "name": "stdout",
     "output_type": "stream",
     "text": [
      "Epoch 2/5 -> Train Loss: 0.1072, Train Acc: 0.9547, Val Loss: 0.0944, Val Acc: 0.9627\n"
     ]
    },
    {
     "name": "stderr",
     "output_type": "stream",
     "text": [
      "                                                                        \r"
     ]
    },
    {
     "name": "stdout",
     "output_type": "stream",
     "text": [
      "Epoch 3/5 -> Train Loss: 0.1068, Train Acc: 0.9558, Val Loss: 0.0884, Val Acc: 0.9635\n"
     ]
    },
    {
     "name": "stderr",
     "output_type": "stream",
     "text": [
      "                                                                        \r"
     ]
    },
    {
     "name": "stdout",
     "output_type": "stream",
     "text": [
      "Epoch 4/5 -> Train Loss: 0.1058, Train Acc: 0.9561, Val Loss: 0.0885, Val Acc: 0.9619\n"
     ]
    },
    {
     "name": "stderr",
     "output_type": "stream",
     "text": [
      "                                                                        \r"
     ]
    },
    {
     "name": "stdout",
     "output_type": "stream",
     "text": [
      "Epoch 5/5 -> Train Loss: 0.1058, Train Acc: 0.9553, Val Loss: 0.0983, Val Acc: 0.9611\n"
     ]
    }
   ],
   "source": [
    "nuevoModelo, train_loss_history, train_acc_history, val_loss_history, val_acc_history, labels_all_train_epoch, labels_preds_train, labels_all_test_epoch, labels_test_preds = train_model_completly(modelo_cargado, train_loader, val_loader, criterion, optimizer, num_epochs)"
   ]
  },
  {
   "cell_type": "code",
   "execution_count": 25,
   "metadata": {},
   "outputs": [
    {
     "name": "stdout",
     "output_type": "stream",
     "text": [
      "Modelo completo guardado correctamente.\n"
     ]
    }
   ],
   "source": [
    "torch.save(nuevoModelo, 'C:/EPN/2024-B/IA/Proyecto/Modelos/model2_resnet18.pth')\n",
    "print(\"Modelo completo guardado correctamente.\")"
   ]
  }
 ],
 "metadata": {
  "kernelspec": {
   "display_name": "Python 3",
   "language": "python",
   "name": "python3"
  },
  "language_info": {
   "codemirror_mode": {
    "name": "ipython",
    "version": 3
   },
   "file_extension": ".py",
   "mimetype": "text/x-python",
   "name": "python",
   "nbconvert_exporter": "python",
   "pygments_lexer": "ipython3",
   "version": "3.10.0"
  }
 },
 "nbformat": 4,
 "nbformat_minor": 2
}
