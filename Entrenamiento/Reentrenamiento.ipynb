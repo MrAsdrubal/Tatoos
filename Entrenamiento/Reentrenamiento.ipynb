{
 "cells": [
  {
   "cell_type": "code",
   "execution_count": 1,
   "metadata": {},
   "outputs": [],
   "source": [
    "import torch\n",
    "import torch.nn as nn\n",
    "import torch.optim as optim\n",
    "from torchvision import datasets, models, transforms\n",
    "from torch.utils.data import DataLoader\n",
    "from sklearn.metrics import classification_report, confusion_matrix\n",
    "import matplotlib.pyplot as plt\n",
    "import seaborn as sns\n",
    "import numpy as np\n",
    "from tqdm import tqdm\n",
    "from tensorflow.keras.models import load_model\n",
    "from PIL import Image "
   ]
  },
  {
   "cell_type": "code",
   "execution_count": 12,
   "metadata": {},
   "outputs": [],
   "source": [
    "# Configuración básica\n",
    "train_dir = 'C:/EPN/2024-B/IA/Proyecto/Datos/procesados2/train_balanced'\n",
    "val_dir = 'C:/EPN/2024-B/IA/Proyecto/Datos/procesados2/val_balanced'\n",
    "batch_size = 32\n",
    "num_classes = 3  # Tonalidad blanca, tonalidad media, tonalidad oscura\n",
    "learning_rate = 0.001\n",
    "num_epochs = 10\n",
    "device = torch.device(\"cuda\" if torch.cuda.is_available() else \"cpu\")"
   ]
  },
  {
   "cell_type": "code",
   "execution_count": 6,
   "metadata": {},
   "outputs": [],
   "source": [
    "# Transformaciones para preprocesar las imágenes\n",
    "data_transforms = {\n",
    "    'train': transforms.Compose([\n",
    "        # Redimensiona las imágenes a 224x224 píxeles\n",
    "        transforms.Resize((224, 224)),\n",
    "        transforms.RandomHorizontalFlip(),\n",
    "        # Transforma las imágenes a tensores de PyTorch\n",
    "        transforms.ToTensor(),\n",
    "        # Normalización de las imágenes con la media y desviación estándar de ImageNet.\n",
    "        transforms.Normalize([0.485, 0.456, 0.406], [0.229, 0.224, 0.225])\n",
    "    ]),\n",
    "    'val': transforms.Compose([\n",
    "        transforms.Resize((224, 224)),\n",
    "        transforms.ToTensor(),\n",
    "        transforms.Normalize([0.485, 0.456, 0.406], [0.229, 0.224, 0.225])\n",
    "    ]),\n",
    "}"
   ]
  },
  {
   "cell_type": "code",
   "execution_count": 7,
   "metadata": {},
   "outputs": [],
   "source": [
    "# Cargar los datos\n",
    "train_dataset = datasets.ImageFolder(train_dir, transform=data_transforms['train'])\n",
    "val_dataset = datasets.ImageFolder(val_dir, transform=data_transforms['val'])\n",
    "\n",
    "train_loader = DataLoader(train_dataset, batch_size=batch_size, shuffle=True)\n",
    "val_loader = DataLoader(val_dataset, batch_size=batch_size, shuffle=False)"
   ]
  },
  {
   "cell_type": "code",
   "execution_count": 8,
   "metadata": {},
   "outputs": [
    {
     "name": "stdout",
     "output_type": "stream",
     "text": [
      "Modelo completo cargado correctamente.\n"
     ]
    },
    {
     "name": "stderr",
     "output_type": "stream",
     "text": [
      "C:\\Users\\qkevi\\AppData\\Local\\Temp\\ipykernel_12452\\1693318551.py:1: FutureWarning: You are using `torch.load` with `weights_only=False` (the current default value), which uses the default pickle module implicitly. It is possible to construct malicious pickle data which will execute arbitrary code during unpickling (See https://github.com/pytorch/pytorch/blob/main/SECURITY.md#untrusted-models for more details). In a future release, the default value for `weights_only` will be flipped to `True`. This limits the functions that could be executed during unpickling. Arbitrary objects will no longer be allowed to be loaded via this mode unless they are explicitly allowlisted by the user via `torch.serialization.add_safe_globals`. We recommend you start setting `weights_only=True` for any use case where you don't have full control of the loaded file. Please open an issue on GitHub for any issues related to this experimental feature.\n",
      "  modelo_cargado = torch.load('C:/EPN/2024-B/IA/Proyecto/Modelos/model2_resnet18.pth')\n"
     ]
    }
   ],
   "source": [
    "modelo_cargado = torch.load('C:/EPN/2024-B/IA/Proyecto/Modelos/model2_resnet18.pth')\n",
    "# Cambiar a modo evaluación si deseas usarlo para predicciones\n",
    "print(\"Modelo completo cargado correctamente.\")"
   ]
  },
  {
   "cell_type": "code",
   "execution_count": 9,
   "metadata": {},
   "outputs": [],
   "source": [
    "criterion = nn.CrossEntropyLoss()\n",
    "optimizer = optim.Adam(modelo_cargado.parameters(), lr=learning_rate)"
   ]
  },
  {
   "cell_type": "code",
   "execution_count": 10,
   "metadata": {},
   "outputs": [],
   "source": [
    "\n",
    "def train_model_completly(model, train_loader, val_loader, criterion, optimizer, num_epochs):\n",
    "    train_loss_history = []\n",
    "    val_loss_history = []\n",
    "    train_acc_history = []\n",
    "    val_acc_history = []\n",
    "    \n",
    "    # Almacenar etiquetas y predicciones para classification reports\n",
    "    all_train_labels_epoch = []  # Etiquetas reales del train por época\n",
    "    all_train_preds_epoch = []  # Predicciones del train por época\n",
    "    all_val_labels_epoch = []   # Etiquetas reales del val por época\n",
    "    all_val_preds_epoch = []    # Predicciones del val por época\n",
    "\n",
    "    for epoch in range(num_epochs):\n",
    "        # Variables para acumular métricas del conjunto de entrenamiento\n",
    "        all_train_labels = []\n",
    "        all_train_preds = []\n",
    "\n",
    "        # Entrenamiento\n",
    "        model.train()\n",
    "        running_loss = 0.0\n",
    "        running_corrects = 0\n",
    "        processed_images = 0\n",
    "\n",
    "        # Barra de progreso para entrenamiento\n",
    "        progress_bar = tqdm(train_loader, desc=f'Epoch {epoch+1}/{num_epochs}', leave=False)\n",
    "\n",
    "        for inputs, labels in progress_bar:\n",
    "            inputs, labels = inputs.to(device), labels.to(device)\n",
    "\n",
    "            optimizer.zero_grad()\n",
    "            outputs = model(inputs)\n",
    "            loss = criterion(outputs, labels)\n",
    "            loss.backward()\n",
    "            optimizer.step()\n",
    "\n",
    "            _, preds = torch.max(outputs, 1)\n",
    "            running_loss += loss.item() * inputs.size(0)\n",
    "            running_corrects += torch.sum(preds == labels.data)\n",
    "            processed_images += inputs.size(0)\n",
    "\n",
    "            # Acumular etiquetas reales y predicciones del entrenamiento\n",
    "            all_train_labels.extend(labels.cpu().numpy())\n",
    "            all_train_preds.extend(preds.cpu().numpy())\n",
    "\n",
    "            # Actualizar la barra de progreso con la pérdida promedio\n",
    "            progress_bar.set_postfix({'loss': running_loss / processed_images})\n",
    "\n",
    "        # Calcular métricas del entrenamiento\n",
    "        epoch_loss = running_loss / len(train_loader.dataset)\n",
    "        epoch_acc = running_corrects.double() / len(train_loader.dataset)\n",
    "        train_loss_history.append(epoch_loss)\n",
    "        train_acc_history.append(epoch_acc.item())\n",
    "        all_train_labels_epoch.append(all_train_labels)\n",
    "        all_train_preds_epoch.append(all_train_preds)\n",
    "\n",
    "        # Validación al final de cada época\n",
    "        model.eval()\n",
    "        val_loss = 0.0\n",
    "        val_corrects = 0.0\n",
    "\n",
    "        all_val_labels = []\n",
    "        all_val_preds = []\n",
    "\n",
    "        with torch.no_grad():\n",
    "            for inputs, labels in val_loader:\n",
    "                inputs, labels = inputs.to(device), labels.to(device)\n",
    "\n",
    "                outputs = model(inputs)\n",
    "                loss = criterion(outputs, labels)\n",
    "\n",
    "                _, preds = torch.max(outputs, 1)\n",
    "                val_loss += loss.item() * inputs.size(0)\n",
    "                val_corrects += torch.sum(preds == labels.data)\n",
    "\n",
    "                # Acumular etiquetas reales y predicciones del conjunto de validación\n",
    "                all_val_labels.extend(labels.cpu().numpy())\n",
    "                all_val_preds.extend(preds.cpu().numpy())\n",
    "\n",
    "        # Calcular métricas de validación\n",
    "        val_loss /= len(val_loader.dataset)\n",
    "        val_acc = val_corrects.double() / len(val_loader.dataset)\n",
    "        val_loss_history.append(val_loss)\n",
    "        val_acc_history.append(val_acc.item())\n",
    "        all_val_labels_epoch.append(all_val_labels)\n",
    "        all_val_preds_epoch.append(all_val_preds)\n",
    "\n",
    "        # Imprimir métricas al final de la época\n",
    "        print(f\"Epoch {epoch+1}/{num_epochs} -> Train Loss: {epoch_loss:.4f}, Train Acc: {epoch_acc:.4f}, \"\n",
    "              f\"Val Loss: {val_loss:.4f}, Val Acc: {val_acc:.4f}\")\n",
    "\n",
    "    # Devolver todas las métricas y datos para los classification reports\n",
    "    return (model, train_loss_history, train_acc_history, val_loss_history, val_acc_history, \n",
    "            all_train_labels_epoch, all_train_preds_epoch, all_val_labels_epoch, all_val_preds_epoch)\n"
   ]
  },
  {
   "cell_type": "code",
   "execution_count": 13,
   "metadata": {},
   "outputs": [
    {
     "name": "stderr",
     "output_type": "stream",
     "text": [
      "                                                                          \r"
     ]
    },
    {
     "name": "stdout",
     "output_type": "stream",
     "text": [
      "Epoch 1/10 -> Train Loss: 0.0923, Train Acc: 0.9648, Val Loss: 0.0769, Val Acc: 0.9706\n"
     ]
    },
    {
     "name": "stderr",
     "output_type": "stream",
     "text": [
      "                                                                          \r"
     ]
    },
    {
     "name": "stdout",
     "output_type": "stream",
     "text": [
      "Epoch 2/10 -> Train Loss: 0.0925, Train Acc: 0.9643, Val Loss: 0.0669, Val Acc: 0.9733\n"
     ]
    },
    {
     "name": "stderr",
     "output_type": "stream",
     "text": [
      "                                                                          \r"
     ]
    },
    {
     "name": "stdout",
     "output_type": "stream",
     "text": [
      "Epoch 3/10 -> Train Loss: 0.0886, Train Acc: 0.9658, Val Loss: 0.0776, Val Acc: 0.9729\n"
     ]
    },
    {
     "name": "stderr",
     "output_type": "stream",
     "text": [
      "                                                                          \r"
     ]
    },
    {
     "name": "stdout",
     "output_type": "stream",
     "text": [
      "Epoch 4/10 -> Train Loss: 0.0821, Train Acc: 0.9681, Val Loss: 0.0714, Val Acc: 0.9733\n"
     ]
    },
    {
     "name": "stderr",
     "output_type": "stream",
     "text": [
      "                                                                          \r"
     ]
    },
    {
     "name": "stdout",
     "output_type": "stream",
     "text": [
      "Epoch 5/10 -> Train Loss: 0.0818, Train Acc: 0.9689, Val Loss: 0.0616, Val Acc: 0.9761\n"
     ]
    },
    {
     "name": "stderr",
     "output_type": "stream",
     "text": [
      "                                                                                \r"
     ]
    },
    {
     "name": "stdout",
     "output_type": "stream",
     "text": [
      "Epoch 6/10 -> Train Loss: 0.0788, Train Acc: 0.9689, Val Loss: 0.0624, Val Acc: 0.9737\n"
     ]
    },
    {
     "name": "stderr",
     "output_type": "stream",
     "text": [
      "                                                                          \r"
     ]
    },
    {
     "name": "stdout",
     "output_type": "stream",
     "text": [
      "Epoch 7/10 -> Train Loss: 0.0764, Train Acc: 0.9702, Val Loss: 0.0681, Val Acc: 0.9745\n"
     ]
    },
    {
     "name": "stderr",
     "output_type": "stream",
     "text": [
      "                                                                          \r"
     ]
    },
    {
     "name": "stdout",
     "output_type": "stream",
     "text": [
      "Epoch 8/10 -> Train Loss: 0.0759, Train Acc: 0.9708, Val Loss: 0.0589, Val Acc: 0.9761\n"
     ]
    },
    {
     "name": "stderr",
     "output_type": "stream",
     "text": [
      "                                                                          \r"
     ]
    },
    {
     "name": "stdout",
     "output_type": "stream",
     "text": [
      "Epoch 9/10 -> Train Loss: 0.0726, Train Acc: 0.9703, Val Loss: 0.0553, Val Acc: 0.9761\n"
     ]
    },
    {
     "name": "stderr",
     "output_type": "stream",
     "text": [
      "                                                                           \r"
     ]
    },
    {
     "name": "stdout",
     "output_type": "stream",
     "text": [
      "Epoch 10/10 -> Train Loss: 0.0679, Train Acc: 0.9737, Val Loss: 0.0752, Val Acc: 0.9749\n"
     ]
    }
   ],
   "source": [
    "nuevoModelo, train_loss_history, train_acc_history, val_loss_history, val_acc_history, labels_all_train_epoch, labels_preds_train, labels_all_test_epoch, labels_test_preds = train_model_completly(modelo_cargado, train_loader, val_loader, criterion, optimizer, num_epochs)"
   ]
  },
  {
   "cell_type": "code",
   "execution_count": 14,
   "metadata": {},
   "outputs": [
    {
     "name": "stdout",
     "output_type": "stream",
     "text": [
      "Modelo completo guardado correctamente.\n"
     ]
    }
   ],
   "source": [
    "torch.save(nuevoModelo, 'C:/EPN/2024-B/IA/Proyecto/Modelos/model3_resnet18.pth')\n",
    "print(\"Modelo completo guardado correctamente.\")"
   ]
  }
 ],
 "metadata": {
  "kernelspec": {
   "display_name": "Python 3",
   "language": "python",
   "name": "python3"
  },
  "language_info": {
   "codemirror_mode": {
    "name": "ipython",
    "version": 3
   },
   "file_extension": ".py",
   "mimetype": "text/x-python",
   "name": "python",
   "nbconvert_exporter": "python",
   "pygments_lexer": "ipython3",
   "version": "3.10.0"
  }
 },
 "nbformat": 4,
 "nbformat_minor": 2
}
